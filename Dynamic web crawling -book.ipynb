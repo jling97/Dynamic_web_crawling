{
 "cells": [
  {
   "cell_type": "code",
   "execution_count": 1,
   "metadata": {},
   "outputs": [],
   "source": [
    "import requests"
   ]
  },
  {
   "cell_type": "code",
   "execution_count": 9,
   "metadata": {},
   "outputs": [],
   "source": [
    "headers = {'User-Agent': 'Mozilla/5.0 (Windows NT 10.0; Win64; x64) AppleWebKit/537.36 (KHTML, like Gecko) Chrome/78.0.3904.108 Safari/537.36'}\n",
    "r=requests.get('https://book.douban.com/subject/1084336/comments/?start=40&limit=20&status=P&sort=new_score',headers = headers)"
   ]
  },
  {
   "cell_type": "code",
   "execution_count": 10,
   "metadata": {},
   "outputs": [
    {
     "data": {
      "text/plain": [
       "200"
      ]
     },
     "execution_count": 10,
     "metadata": {},
     "output_type": "execute_result"
    }
   ],
   "source": [
    "r.status_code"
   ]
  },
  {
   "cell_type": "code",
   "execution_count": 11,
   "metadata": {},
   "outputs": [],
   "source": [
    "from bs4 import BeautifulSoup"
   ]
  },
  {
   "cell_type": "code",
   "execution_count": 12,
   "metadata": {},
   "outputs": [],
   "source": [
    "soup=BeautifulSoup(r.text,'lxml')"
   ]
  },
  {
   "cell_type": "code",
   "execution_count": 13,
   "metadata": {},
   "outputs": [],
   "source": [
    "pattern=soup.find_all('span','short')"
   ]
  },
  {
   "cell_type": "code",
   "execution_count": 14,
   "metadata": {},
   "outputs": [
    {
     "name": "stdout",
     "output_type": "stream",
     "text": [
      "我小的时候，没有看懂。现在想起来，竟然觉得这个故事冷。看了几遍都没有太看懂。直到有一天突然发现那种孤独。那种有很多星球可是只有你一个居民的孤独。精心呵护的玫瑰，路遇的小狐狸。所以才要和飞行员对话吧，因为太寂寞了。可是我们每个人，都是拥有一个星球的小王子。我学不会爱，学不会接受爱。\n",
      "不好看\n",
      "如此忧伤的成人童话\n",
      "以孩子的视角来观察想象成人的世界，用孩子的口吻来控拆社会的光怪陆离。\n",
      "这是一本读给孩子听，但是触动的是大人的童话，是一本值得一生珍藏，甚至带着它躲避末日浩劫的作品。你能用怎样的话去评价它呢？怎样的话都显得多余，只能自己亲自读过后才能明白。推荐给所有觉得成长是种疲惫的人，让小王子告诉你，一朵长在你心里的玫瑰，胜过千万朵花圃里的那经济作物。\n",
      "一个人的成长 抛却的是他自己的纯与真 一个时代的成长 丰裕的是物质 消逝的是精神\n",
      "一本适合每个年龄段的书 推荐这个版本 翻译得更加好一点\n",
      "请给我画一只绵羊。\n",
      "初读是高中，彼时朦朦胧胧，并无太多触动。长大了再读，却数次掩卷叹息。有些事，不经历就不会懂。譬如玫瑰傲娇的刺，麦子的颜色，星星上的笑声。小时候单纯地喜欢玫瑰因为觉得得到男主爱的就是女主，长大了却每次看到狐狸都会热泪盈眶。“由于麦子颜色的缘故，我还是得到了好处。”以前不明白，但现在懂了。我很开心，真的。\n",
      "反复反复反复看的枕边书\n",
      "纯美。简单的竟然读不大懂。\n",
      "……我觉得很一般的故事……为什么这么多人喜欢……没明白。\n",
      "读过很多遍，人生浅薄，不太敢评论。这几天又看了一遍，感谢这个故事带给我的幸福和孤独。其实还是希望自己不要读懂这本书最好。\n",
      "全豆瓣读书频道“读过”最多的。\n",
      "我以前一直以为小王子是王尔德写的。。。我勒个去\n",
      "成人童话吧，小王子驯养了小狐狸，最终还是为了玫瑰离开了小狐狸，童话里的儿童完全是无敌的，纯真直接、单纯质朴，老生常谈，永远年轻，永远热泪盈眶\n",
      "要是你喜欢一朵花儿，而她在一颗星星上。那你夜里看着天空。就会觉得很美。所有的星星都像~开满了花儿~……而这些~大人是不懂的-____-\n",
      "今之浮躁和功利如我，内心早已难回宁静和纯真。有时候夜阅此书，暗自垂泪，暗自怀念，然后依旧空虚寂寞。9\n",
      "“由于麦子颜色的缘故，我还是得到了好处。”\n",
      "这就象花一样。如果你爱上了一朵生长在一颗星星上的花，那么夜间，你看着天空就感到甜蜜愉快，所有的星星上都好象开着花。玫瑰花。酒鬼。行星与落日。\n",
      "花40分钟读完了。为这本书的来历多加一颗星。单纯的童话，核心却是孤独、爱情、丧失和死亡。整个故事都透着淡淡的忧伤。童话的产生是为了满足现实中无法实现的愿望。借助童话，我们相信，那些渐行渐远，消失不见的人，一定也去了某个星球，在那儿继续幸福。\n"
     ]
    }
   ],
   "source": [
    "for item in pattern:\n",
    "    print(item.string)"
   ]
  },
  {
   "cell_type": "code",
   "execution_count": 15,
   "metadata": {},
   "outputs": [],
   "source": [
    "import re\n",
    "pattern_s=re.compile(' <span class=\"user-stars allstar(.*) rating\"')"
   ]
  },
  {
   "cell_type": "code",
   "execution_count": 16,
   "metadata": {},
   "outputs": [],
   "source": [
    "p=re.findall(pattern_s,r.text)"
   ]
  },
  {
   "cell_type": "code",
   "execution_count": 17,
   "metadata": {},
   "outputs": [
    {
     "data": {
      "text/plain": [
       "['50',\n",
       " '20',\n",
       " '50',\n",
       " '50',\n",
       " '50',\n",
       " '40',\n",
       " '50',\n",
       " '50',\n",
       " '50',\n",
       " '50',\n",
       " '30',\n",
       " '50',\n",
       " '50',\n",
       " '40',\n",
       " '50',\n",
       " '50',\n",
       " '40',\n",
       " '50',\n",
       " '50']"
      ]
     },
     "execution_count": 17,
     "metadata": {},
     "output_type": "execute_result"
    }
   ],
   "source": [
    "p"
   ]
  },
  {
   "cell_type": "code",
   "execution_count": 18,
   "metadata": {},
   "outputs": [],
   "source": [
    "s=0\n",
    "for star in p:\n",
    "    s=s+int(star)"
   ]
  },
  {
   "cell_type": "code",
   "execution_count": 19,
   "metadata": {},
   "outputs": [
    {
     "name": "stdout",
     "output_type": "stream",
     "text": [
      "870\n"
     ]
    }
   ],
   "source": [
    "print(s)"
   ]
  },
  {
   "cell_type": "code",
   "execution_count": null,
   "metadata": {},
   "outputs": [],
   "source": []
  }
 ],
 "metadata": {
  "kernelspec": {
   "display_name": "Python 3",
   "language": "python",
   "name": "python3"
  },
  "language_info": {
   "codemirror_mode": {
    "name": "ipython",
    "version": 3
   },
   "file_extension": ".py",
   "mimetype": "text/x-python",
   "name": "python",
   "nbconvert_exporter": "python",
   "pygments_lexer": "ipython3",
   "version": "3.7.3"
  }
 },
 "nbformat": 4,
 "nbformat_minor": 2
}
